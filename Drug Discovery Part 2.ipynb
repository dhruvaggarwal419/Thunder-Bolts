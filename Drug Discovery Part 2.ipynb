{
 "cells": [
  {
   "cell_type": "markdown",
   "id": "769a659a-5f34-42ec-8fd3-7f36b737fe8a",
   "metadata": {},
   "source": [
    "# **Bioinformatics Project - Computational Drug Discovery [Part 3] Descriptor Calculation and Dataset Preparation**\n",
    "\n",
    "Particularly, we will be building a machine learning model using the ChEMBL bioactivity data.\n",
    "\n",
    "In this part, we will be calculating molecular descriptors that are essentially quantitative description of the compounds in the dataset. Finally, we will be preparing this into a dataset for subsequent model building in Part 4.\n",
    "\n",
    "---"
   ]
  },
  {
   "cell_type": "markdown",
   "id": "2fe30393-f64f-4100-a0da-9682522b45bd",
   "metadata": {},
   "source": [
    "## **Download PaDEL-Descriptor**"
   ]
  },
  {
   "cell_type": "code",
   "execution_count": 3,
   "id": "15763b7c-2148-46ea-a6a7-8cfd4e44b03c",
   "metadata": {},
   "outputs": [
    {
     "name": "stdout",
     "output_type": "stream",
     "text": [
      "Download complete!\n"
     ]
    }
   ],
   "source": [
    "import requests\n",
    "\n",
    "urls = [\n",
    "    \"https://github.com/dataprofessor/bioinformatics/raw/master/padel.zip\",\n",
    "    \"https://github.com/dataprofessor/bioinformatics/raw/master/padel.sh\"\n",
    "]\n",
    "\n",
    "for url in urls:\n",
    "    filename = url.split(\"/\")[-1]\n",
    "    response = requests.get(url)\n",
    "    with open(filename, \"wb\") as f:\n",
    "        f.write(response.content)\n",
    "\n",
    "print(\"Download complete!\")\n"
   ]
  },
  {
   "cell_type": "code",
   "execution_count": 5,
   "id": "bb051e24-f39c-475b-adf1-ab664afa5a0e",
   "metadata": {},
   "outputs": [
    {
     "name": "stdout",
     "output_type": "stream",
     "text": [
      "Archive:  padel.zip\n",
      "   creating: PaDEL-Descriptor/\n",
      "  inflating: __MACOSX/._PaDEL-Descriptor  \n",
      "  inflating: PaDEL-Descriptor/MACCSFingerprinter.xml  \n",
      "  inflating: __MACOSX/PaDEL-Descriptor/._MACCSFingerprinter.xml  \n",
      "  inflating: PaDEL-Descriptor/AtomPairs2DFingerprinter.xml  \n",
      "  inflating: __MACOSX/PaDEL-Descriptor/._AtomPairs2DFingerprinter.xml  \n",
      "  inflating: PaDEL-Descriptor/EStateFingerprinter.xml  \n",
      "  inflating: __MACOSX/PaDEL-Descriptor/._EStateFingerprinter.xml  \n",
      "  inflating: PaDEL-Descriptor/Fingerprinter.xml  \n",
      "  inflating: __MACOSX/PaDEL-Descriptor/._Fingerprinter.xml  \n",
      "  inflating: PaDEL-Descriptor/.DS_Store  \n",
      "  inflating: __MACOSX/PaDEL-Descriptor/._.DS_Store  \n",
      "   creating: PaDEL-Descriptor/license/\n",
      "  inflating: __MACOSX/PaDEL-Descriptor/._license  \n",
      "  inflating: PaDEL-Descriptor/KlekotaRothFingerprintCount.xml  \n",
      "  inflating: __MACOSX/PaDEL-Descriptor/._KlekotaRothFingerprintCount.xml  \n",
      "  inflating: PaDEL-Descriptor/config  \n",
      "  inflating: __MACOSX/PaDEL-Descriptor/._config  \n",
      "  inflating: PaDEL-Descriptor/PubchemFingerprinter.xml  \n",
      "  inflating: __MACOSX/PaDEL-Descriptor/._PubchemFingerprinter.xml  \n",
      "  inflating: PaDEL-Descriptor/ExtendedFingerprinter.xml  \n",
      "  inflating: __MACOSX/PaDEL-Descriptor/._ExtendedFingerprinter.xml  \n",
      "  inflating: PaDEL-Descriptor/KlekotaRothFingerprinter.xml  \n",
      "  inflating: __MACOSX/PaDEL-Descriptor/._KlekotaRothFingerprinter.xml  \n",
      "  inflating: PaDEL-Descriptor/GraphOnlyFingerprinter.xml  \n",
      "  inflating: __MACOSX/PaDEL-Descriptor/._GraphOnlyFingerprinter.xml  \n",
      "  inflating: PaDEL-Descriptor/SubstructureFingerprinter.xml  \n",
      "  inflating: __MACOSX/PaDEL-Descriptor/._SubstructureFingerprinter.xml  \n",
      "  inflating: PaDEL-Descriptor/Descriptors.xls  \n",
      "  inflating: __MACOSX/PaDEL-Descriptor/._Descriptors.xls  \n",
      "   creating: PaDEL-Descriptor/lib/\n",
      "  inflating: __MACOSX/PaDEL-Descriptor/._lib  \n",
      "  inflating: PaDEL-Descriptor/PaDEL-Descriptor.jar  \n",
      "  inflating: __MACOSX/PaDEL-Descriptor/._PaDEL-Descriptor.jar  \n",
      "  inflating: PaDEL-Descriptor/SubstructureFingerprintCount.xml  \n",
      "  inflating: __MACOSX/PaDEL-Descriptor/._SubstructureFingerprintCount.xml  \n",
      "  inflating: PaDEL-Descriptor/AtomPairs2DFingerprintCount.xml  \n",
      "  inflating: __MACOSX/PaDEL-Descriptor/._AtomPairs2DFingerprintCount.xml  \n",
      "  inflating: PaDEL-Descriptor/descriptors.xml  \n",
      "  inflating: __MACOSX/PaDEL-Descriptor/._descriptors.xml  \n",
      "  inflating: PaDEL-Descriptor/license/lgpl-2.1.txt  \n",
      "  inflating: __MACOSX/PaDEL-Descriptor/license/._lgpl-2.1.txt  \n",
      "  inflating: PaDEL-Descriptor/license/LICENSE.txt  \n",
      "  inflating: __MACOSX/PaDEL-Descriptor/license/._LICENSE.txt  \n",
      "  inflating: PaDEL-Descriptor/license/README - CDK  \n",
      "  inflating: __MACOSX/PaDEL-Descriptor/license/._README - CDK  \n",
      "  inflating: PaDEL-Descriptor/license/lgpl.license  \n",
      "  inflating: __MACOSX/PaDEL-Descriptor/license/._lgpl.license  \n",
      "  inflating: PaDEL-Descriptor/lib/ambit2-core-2.4.7-SNAPSHOT(3).jar  \n",
      "  inflating: __MACOSX/PaDEL-Descriptor/lib/._ambit2-core-2.4.7-SNAPSHOT(3).jar  \n",
      "  inflating: PaDEL-Descriptor/lib/libPaDEL-Jobs(6).jar  \n",
      "  inflating: __MACOSX/PaDEL-Descriptor/lib/._libPaDEL-Jobs(6).jar  \n",
      "  inflating: PaDEL-Descriptor/lib/libPaDEL.jar  \n",
      "  inflating: __MACOSX/PaDEL-Descriptor/lib/._libPaDEL.jar  \n",
      "  inflating: PaDEL-Descriptor/lib/jgrapht-0.6.0(4).jar  \n",
      "  inflating: __MACOSX/PaDEL-Descriptor/lib/._jgrapht-0.6.0(4).jar  \n",
      "  inflating: PaDEL-Descriptor/lib/commons-cli-1.2(2).jar  \n",
      "  inflating: __MACOSX/PaDEL-Descriptor/lib/._commons-cli-1.2(2).jar  \n",
      "  inflating: PaDEL-Descriptor/lib/xom-1.1(1).jar  \n",
      "  inflating: __MACOSX/PaDEL-Descriptor/lib/._xom-1.1(1).jar  \n",
      "  inflating: PaDEL-Descriptor/lib/swing-worker-1.1.jar  \n",
      "  inflating: __MACOSX/PaDEL-Descriptor/lib/._swing-worker-1.1.jar  \n",
      "  inflating: PaDEL-Descriptor/lib/commons-cli-1.2(3).jar  \n",
      "  inflating: __MACOSX/PaDEL-Descriptor/lib/._commons-cli-1.2(3).jar  \n",
      "  inflating: PaDEL-Descriptor/lib/jgrapht-0.6.0(5).jar  \n",
      "  inflating: __MACOSX/PaDEL-Descriptor/lib/._jgrapht-0.6.0(5).jar  \n",
      "  inflating: PaDEL-Descriptor/lib/jama(1).jar  \n",
      "  inflating: __MACOSX/PaDEL-Descriptor/lib/._jama(1).jar  \n",
      "  inflating: PaDEL-Descriptor/lib/appframework-1.0.3.jar  \n",
      "  inflating: __MACOSX/PaDEL-Descriptor/lib/._appframework-1.0.3.jar  \n",
      "  inflating: PaDEL-Descriptor/lib/libPaDEL-Jobs(7).jar  \n",
      "  inflating: __MACOSX/PaDEL-Descriptor/lib/._libPaDEL-Jobs(7).jar  \n",
      "  inflating: PaDEL-Descriptor/lib/vecmath1.2-1.14.jar  \n",
      "  inflating: __MACOSX/PaDEL-Descriptor/lib/._vecmath1.2-1.14.jar  \n",
      "  inflating: PaDEL-Descriptor/lib/ambit2-smarts-2.4.7-SNAPSHOT(6).jar  \n",
      "  inflating: __MACOSX/PaDEL-Descriptor/lib/._ambit2-smarts-2.4.7-SNAPSHOT(6).jar  \n",
      "  inflating: PaDEL-Descriptor/lib/ambit2-core-2.4.7-SNAPSHOT(2).jar  \n",
      "  inflating: __MACOSX/PaDEL-Descriptor/lib/._ambit2-core-2.4.7-SNAPSHOT(2).jar  \n",
      "  inflating: PaDEL-Descriptor/lib/jama(6).jar  \n",
      "  inflating: __MACOSX/PaDEL-Descriptor/lib/._jama(6).jar  \n",
      "  inflating: PaDEL-Descriptor/lib/jgrapht-0.6.0(2).jar  \n",
      "  inflating: __MACOSX/PaDEL-Descriptor/lib/._jgrapht-0.6.0(2).jar  \n",
      "  inflating: PaDEL-Descriptor/lib/libPaDEL-Descriptor(3).jar  \n",
      "  inflating: __MACOSX/PaDEL-Descriptor/lib/._libPaDEL-Descriptor(3).jar  \n",
      "  inflating: PaDEL-Descriptor/lib/commons-cli-1.2(4).jar  \n",
      "  inflating: __MACOSX/PaDEL-Descriptor/lib/._commons-cli-1.2(4).jar  \n",
      "  inflating: PaDEL-Descriptor/lib/ambit2-base-2.4.7-SNAPSHOT.jar  \n",
      "  inflating: __MACOSX/PaDEL-Descriptor/lib/._ambit2-base-2.4.7-SNAPSHOT.jar  \n",
      "  inflating: PaDEL-Descriptor/lib/ambit2-smarts-2.4.7-SNAPSHOT(1).jar  \n",
      "  inflating: __MACOSX/PaDEL-Descriptor/lib/._ambit2-smarts-2.4.7-SNAPSHOT(1).jar  \n",
      "  inflating: PaDEL-Descriptor/lib/commons-cli-1.2.jar  \n",
      "  inflating: __MACOSX/PaDEL-Descriptor/lib/._commons-cli-1.2.jar  \n",
      "  inflating: PaDEL-Descriptor/lib/commons-cli-1.2(8).jar  \n",
      "  inflating: __MACOSX/PaDEL-Descriptor/lib/._commons-cli-1.2(8).jar  \n",
      "  inflating: PaDEL-Descriptor/lib/jgrapht-0.6.0.jar  \n",
      "  inflating: __MACOSX/PaDEL-Descriptor/lib/._jgrapht-0.6.0.jar  \n",
      "  inflating: PaDEL-Descriptor/lib/libPaDEL-Jobs(1).jar  \n",
      "  inflating: __MACOSX/PaDEL-Descriptor/lib/._libPaDEL-Jobs(1).jar  \n",
      "  inflating: PaDEL-Descriptor/lib/libPaDEL-Jobs.jar  \n",
      "  inflating: __MACOSX/PaDEL-Descriptor/lib/._libPaDEL-Jobs.jar  \n",
      "  inflating: PaDEL-Descriptor/lib/ambit2-core-2.4.7-SNAPSHOT(4).jar  \n",
      "  inflating: __MACOSX/PaDEL-Descriptor/lib/._ambit2-core-2.4.7-SNAPSHOT(4).jar  \n",
      "  inflating: PaDEL-Descriptor/lib/xom-1.1.jar  \n",
      "  inflating: __MACOSX/PaDEL-Descriptor/lib/._xom-1.1.jar  \n",
      "  inflating: PaDEL-Descriptor/lib/commons-cli-1.2(5).jar  \n",
      "  inflating: __MACOSX/PaDEL-Descriptor/lib/._commons-cli-1.2(5).jar  \n",
      "  inflating: PaDEL-Descriptor/lib/libPaDEL-Descriptor(2).jar  \n",
      "  inflating: __MACOSX/PaDEL-Descriptor/lib/._libPaDEL-Descriptor(2).jar  \n",
      "  inflating: PaDEL-Descriptor/lib/jgrapht-0.6.0(3).jar  \n",
      "  inflating: __MACOSX/PaDEL-Descriptor/lib/._jgrapht-0.6.0(3).jar  \n",
      "  inflating: PaDEL-Descriptor/lib/jama(7).jar  \n",
      "  inflating: __MACOSX/PaDEL-Descriptor/lib/._jama(7).jar  \n",
      "  inflating: PaDEL-Descriptor/lib/ambit2-core-2.4.7-SNAPSHOT.jar  \n",
      "  inflating: __MACOSX/PaDEL-Descriptor/lib/._ambit2-core-2.4.7-SNAPSHOT.jar  \n",
      "  inflating: PaDEL-Descriptor/lib/commons-cli-1.2(6).jar  \n",
      "  inflating: __MACOSX/PaDEL-Descriptor/lib/._commons-cli-1.2(6).jar  \n",
      "  inflating: PaDEL-Descriptor/lib/libPaDEL-Descriptor(1).jar  \n",
      "  inflating: __MACOSX/PaDEL-Descriptor/lib/._libPaDEL-Descriptor(1).jar  \n",
      "  inflating: PaDEL-Descriptor/lib/jama(4).jar  \n",
      "  inflating: __MACOSX/PaDEL-Descriptor/lib/._jama(4).jar  \n",
      "  inflating: PaDEL-Descriptor/lib/libPaDEL-Jobs(2).jar  \n",
      "  inflating: __MACOSX/PaDEL-Descriptor/lib/._libPaDEL-Jobs(2).jar  \n",
      "  inflating: PaDEL-Descriptor/lib/ambit2-smarts-2.4.7-SNAPSHOT(3).jar  \n",
      "  inflating: __MACOSX/PaDEL-Descriptor/lib/._ambit2-smarts-2.4.7-SNAPSHOT(3).jar  \n",
      "  inflating: PaDEL-Descriptor/lib/ambit2-smarts-2.4.7-SNAPSHOT(2).jar  \n",
      "  inflating: __MACOSX/PaDEL-Descriptor/lib/._ambit2-smarts-2.4.7-SNAPSHOT(2).jar  \n",
      "  inflating: PaDEL-Descriptor/lib/ambit2-smarts-2.4.7-SNAPSHOT.jar  \n",
      "  inflating: __MACOSX/PaDEL-Descriptor/lib/._ambit2-smarts-2.4.7-SNAPSHOT.jar  \n",
      "  inflating: PaDEL-Descriptor/lib/libPaDEL-Jobs(3).jar  \n",
      "  inflating: __MACOSX/PaDEL-Descriptor/lib/._libPaDEL-Jobs(3).jar  \n",
      "  inflating: PaDEL-Descriptor/lib/l2fprod-common-all(1).jar  \n",
      "  inflating: __MACOSX/PaDEL-Descriptor/lib/._l2fprod-common-all(1).jar  \n",
      "  inflating: PaDEL-Descriptor/lib/jama.jar  \n",
      "  inflating: __MACOSX/PaDEL-Descriptor/lib/._jama.jar  \n",
      "  inflating: PaDEL-Descriptor/lib/l2fprod-common-all.jar  \n",
      "  inflating: __MACOSX/PaDEL-Descriptor/lib/._l2fprod-common-all.jar  \n",
      "  inflating: PaDEL-Descriptor/lib/jama(5).jar  \n",
      "  inflating: __MACOSX/PaDEL-Descriptor/lib/._jama(5).jar  \n",
      "  inflating: PaDEL-Descriptor/lib/jgrapht-0.6.0(1).jar  \n",
      "  inflating: __MACOSX/PaDEL-Descriptor/lib/._jgrapht-0.6.0(1).jar  \n",
      "  inflating: PaDEL-Descriptor/lib/commons-cli-1.2(7).jar  \n",
      "  inflating: __MACOSX/PaDEL-Descriptor/lib/._commons-cli-1.2(7).jar  \n",
      "  inflating: PaDEL-Descriptor/lib/libPaDEL-Descriptor.jar  \n",
      "  inflating: __MACOSX/PaDEL-Descriptor/lib/._libPaDEL-Descriptor.jar  \n",
      "  inflating: PaDEL-Descriptor/lib/libPaDEL-Jobs(4).jar  \n",
      "  inflating: __MACOSX/PaDEL-Descriptor/lib/._libPaDEL-Jobs(4).jar  \n",
      "  inflating: PaDEL-Descriptor/lib/cdk-1.4.15.jar  \n",
      "  inflating: __MACOSX/PaDEL-Descriptor/lib/._cdk-1.4.15.jar  \n",
      "  inflating: PaDEL-Descriptor/lib/ambit2-smarts-2.4.7-SNAPSHOT(5).jar  \n",
      "  inflating: __MACOSX/PaDEL-Descriptor/lib/._ambit2-smarts-2.4.7-SNAPSHOT(5).jar  \n",
      "  inflating: PaDEL-Descriptor/lib/ambit2-core-2.4.7-SNAPSHOT(1).jar  \n",
      "  inflating: __MACOSX/PaDEL-Descriptor/lib/._ambit2-core-2.4.7-SNAPSHOT(1).jar  \n",
      "  inflating: PaDEL-Descriptor/lib/libPaDEL-Jobs(8).jar  \n",
      "  inflating: __MACOSX/PaDEL-Descriptor/lib/._libPaDEL-Jobs(8).jar  \n",
      "  inflating: PaDEL-Descriptor/lib/jgrapht-0.6.0(6).jar  \n",
      "  inflating: __MACOSX/PaDEL-Descriptor/lib/._jgrapht-0.6.0(6).jar  \n",
      "  inflating: PaDEL-Descriptor/lib/jama(2).jar  \n",
      "  inflating: __MACOSX/PaDEL-Descriptor/lib/._jama(2).jar  \n",
      "  inflating: PaDEL-Descriptor/lib/jama(3).jar  \n",
      "  inflating: __MACOSX/PaDEL-Descriptor/lib/._jama(3).jar  \n",
      "  inflating: PaDEL-Descriptor/lib/commons-cli-1.2(1).jar  \n",
      "  inflating: __MACOSX/PaDEL-Descriptor/lib/._commons-cli-1.2(1).jar  \n",
      "  inflating: PaDEL-Descriptor/lib/guava-17.0.jar  \n",
      "  inflating: __MACOSX/PaDEL-Descriptor/lib/._guava-17.0.jar  \n",
      "  inflating: PaDEL-Descriptor/lib/ambit2-smarts-2.4.7-SNAPSHOT(4).jar  \n",
      "  inflating: __MACOSX/PaDEL-Descriptor/lib/._ambit2-smarts-2.4.7-SNAPSHOT(4).jar  \n",
      "  inflating: PaDEL-Descriptor/lib/libPaDEL-Jobs(5).jar  \n",
      "  inflating: __MACOSX/PaDEL-Descriptor/lib/._libPaDEL-Jobs(5).jar  \n"
     ]
    }
   ],
   "source": [
    "! unzip padel.zip"
   ]
  },
  {
   "cell_type": "markdown",
   "id": "2d0bcca3-22bf-4856-9cf7-cadb1312c30d",
   "metadata": {},
   "source": [
    "## **Load bioactivity data**"
   ]
  },
  {
   "cell_type": "markdown",
   "id": "9fe79b34-82cb-4dc4-b976-32ef82d9098f",
   "metadata": {},
   "source": [
    "Download the curated ChEMBL bioactivity data that has been pre-processed from Parts 1 and 2 of this Bioinformatics Project series. Here we will be using the **bioactivity_data_3class_pIC50.csv** file that essentially contain the pIC50 values that we will be using for building a regression model."
   ]
  },
  {
   "cell_type": "code",
   "execution_count": 11,
   "id": "79206d01-7dfc-42f9-aa7b-477ce46df3d4",
   "metadata": {},
   "outputs": [
    {
     "name": "stdout",
     "output_type": "stream",
     "text": [
      "Downloaded acetylcholinesterase_04_bioactivity_data_3class_pIC50.csv successfully!\n"
     ]
    }
   ],
   "source": [
    "import requests\n",
    "\n",
    "url = \"https://raw.githubusercontent.com/dataprofessor/data/master/acetylcholinesterase_04_bioactivity_data_3class_pIC50.csv\"\n",
    "filename = url.split(\"/\")[-1]\n",
    "\n",
    "response = requests.get(url)\n",
    "with open(filename, \"wb\") as f:\n",
    "    f.write(response.content)\n",
    "\n",
    "print(f\"Downloaded {filename} successfully!\")\n"
   ]
  },
  {
   "cell_type": "code",
   "execution_count": 13,
   "id": "2f3b60b2-8f7c-4995-a492-eae16cca3c8b",
   "metadata": {},
   "outputs": [],
   "source": [
    "import pandas as pd"
   ]
  },
  {
   "cell_type": "code",
   "execution_count": 15,
   "id": "0ca162a2-2a74-4bb4-b0d4-22cf35b07596",
   "metadata": {},
   "outputs": [],
   "source": [
    "df3 = pd.read_csv('acetylcholinesterase_04_bioactivity_data_3class_pIC50.csv')"
   ]
  },
  {
   "cell_type": "code",
   "execution_count": 17,
   "id": "b37c6150-25ee-4508-86be-6d400281c1db",
   "metadata": {},
   "outputs": [
    {
     "data": {
      "text/html": [
       "<div>\n",
       "<style scoped>\n",
       "    .dataframe tbody tr th:only-of-type {\n",
       "        vertical-align: middle;\n",
       "    }\n",
       "\n",
       "    .dataframe tbody tr th {\n",
       "        vertical-align: top;\n",
       "    }\n",
       "\n",
       "    .dataframe thead th {\n",
       "        text-align: right;\n",
       "    }\n",
       "</style>\n",
       "<table border=\"1\" class=\"dataframe\">\n",
       "  <thead>\n",
       "    <tr style=\"text-align: right;\">\n",
       "      <th></th>\n",
       "      <th>Unnamed: 0</th>\n",
       "      <th>molecule_chembl_id</th>\n",
       "      <th>canonical_smiles</th>\n",
       "      <th>class</th>\n",
       "      <th>MW</th>\n",
       "      <th>LogP</th>\n",
       "      <th>NumHDonors</th>\n",
       "      <th>NumHAcceptors</th>\n",
       "      <th>pIC50</th>\n",
       "    </tr>\n",
       "  </thead>\n",
       "  <tbody>\n",
       "    <tr>\n",
       "      <th>0</th>\n",
       "      <td>0</td>\n",
       "      <td>CHEMBL133897</td>\n",
       "      <td>CCOc1nn(-c2cccc(OCc3ccccc3)c2)c(=O)o1</td>\n",
       "      <td>active</td>\n",
       "      <td>312.325</td>\n",
       "      <td>2.80320</td>\n",
       "      <td>0.0</td>\n",
       "      <td>6.0</td>\n",
       "      <td>6.124939</td>\n",
       "    </tr>\n",
       "    <tr>\n",
       "      <th>1</th>\n",
       "      <td>1</td>\n",
       "      <td>CHEMBL336398</td>\n",
       "      <td>O=C(N1CCCCC1)n1nc(-c2ccc(Cl)cc2)nc1SCC1CC1</td>\n",
       "      <td>active</td>\n",
       "      <td>376.913</td>\n",
       "      <td>4.55460</td>\n",
       "      <td>0.0</td>\n",
       "      <td>5.0</td>\n",
       "      <td>7.000000</td>\n",
       "    </tr>\n",
       "    <tr>\n",
       "      <th>2</th>\n",
       "      <td>2</td>\n",
       "      <td>CHEMBL131588</td>\n",
       "      <td>CN(C(=O)n1nc(-c2ccc(Cl)cc2)nc1SCC(F)(F)F)c1ccccc1</td>\n",
       "      <td>inactive</td>\n",
       "      <td>426.851</td>\n",
       "      <td>5.35740</td>\n",
       "      <td>0.0</td>\n",
       "      <td>5.0</td>\n",
       "      <td>4.301030</td>\n",
       "    </tr>\n",
       "    <tr>\n",
       "      <th>3</th>\n",
       "      <td>3</td>\n",
       "      <td>CHEMBL130628</td>\n",
       "      <td>O=C(N1CCCCC1)n1nc(-c2ccc(Cl)cc2)nc1SCC(F)(F)F</td>\n",
       "      <td>active</td>\n",
       "      <td>404.845</td>\n",
       "      <td>4.70690</td>\n",
       "      <td>0.0</td>\n",
       "      <td>5.0</td>\n",
       "      <td>6.522879</td>\n",
       "    </tr>\n",
       "    <tr>\n",
       "      <th>4</th>\n",
       "      <td>4</td>\n",
       "      <td>CHEMBL130478</td>\n",
       "      <td>CSc1nc(-c2ccc(OC(F)(F)F)cc2)nn1C(=O)N(C)C</td>\n",
       "      <td>active</td>\n",
       "      <td>346.334</td>\n",
       "      <td>3.09530</td>\n",
       "      <td>0.0</td>\n",
       "      <td>6.0</td>\n",
       "      <td>6.096910</td>\n",
       "    </tr>\n",
       "    <tr>\n",
       "      <th>...</th>\n",
       "      <td>...</td>\n",
       "      <td>...</td>\n",
       "      <td>...</td>\n",
       "      <td>...</td>\n",
       "      <td>...</td>\n",
       "      <td>...</td>\n",
       "      <td>...</td>\n",
       "      <td>...</td>\n",
       "      <td>...</td>\n",
       "    </tr>\n",
       "    <tr>\n",
       "      <th>4690</th>\n",
       "      <td>4690</td>\n",
       "      <td>CHEMBL4293155</td>\n",
       "      <td>CC(C)(C)c1cc(/C=C/C(=O)NCCC2CCN(Cc3ccccc3Cl)CC...</td>\n",
       "      <td>intermediate</td>\n",
       "      <td>511.150</td>\n",
       "      <td>7.07230</td>\n",
       "      <td>2.0</td>\n",
       "      <td>3.0</td>\n",
       "      <td>5.612610</td>\n",
       "    </tr>\n",
       "    <tr>\n",
       "      <th>4691</th>\n",
       "      <td>4691</td>\n",
       "      <td>CHEMBL4282558</td>\n",
       "      <td>CC(C)(C)c1cc(/C=C/C(=O)NCCC2CCN(Cc3cccc(Cl)c3)...</td>\n",
       "      <td>intermediate</td>\n",
       "      <td>511.150</td>\n",
       "      <td>7.07230</td>\n",
       "      <td>2.0</td>\n",
       "      <td>3.0</td>\n",
       "      <td>5.595166</td>\n",
       "    </tr>\n",
       "    <tr>\n",
       "      <th>4692</th>\n",
       "      <td>4692</td>\n",
       "      <td>CHEMBL4281727</td>\n",
       "      <td>CC(C)(C)c1cc(/C=C/C(=O)NCCC2CCN(Cc3ccc(Br)cc3)...</td>\n",
       "      <td>intermediate</td>\n",
       "      <td>555.601</td>\n",
       "      <td>7.18140</td>\n",
       "      <td>2.0</td>\n",
       "      <td>3.0</td>\n",
       "      <td>5.419075</td>\n",
       "    </tr>\n",
       "    <tr>\n",
       "      <th>4693</th>\n",
       "      <td>4693</td>\n",
       "      <td>CHEMBL4292349</td>\n",
       "      <td>CC(C)(C)c1cc(/C=C/C(=O)NCCC2CCN(Cc3cccc([N+](=...</td>\n",
       "      <td>intermediate</td>\n",
       "      <td>521.702</td>\n",
       "      <td>6.32710</td>\n",
       "      <td>2.0</td>\n",
       "      <td>5.0</td>\n",
       "      <td>5.460924</td>\n",
       "    </tr>\n",
       "    <tr>\n",
       "      <th>4694</th>\n",
       "      <td>4694</td>\n",
       "      <td>CHEMBL4278260</td>\n",
       "      <td>CC(C)(C)c1cc(/C=C/C(=O)NCCC2CCN(Cc3ccc(C#N)cc3...</td>\n",
       "      <td>intermediate</td>\n",
       "      <td>501.715</td>\n",
       "      <td>6.29058</td>\n",
       "      <td>2.0</td>\n",
       "      <td>4.0</td>\n",
       "      <td>5.555955</td>\n",
       "    </tr>\n",
       "  </tbody>\n",
       "</table>\n",
       "<p>4695 rows × 9 columns</p>\n",
       "</div>"
      ],
      "text/plain": [
       "      Unnamed: 0 molecule_chembl_id  \\\n",
       "0              0       CHEMBL133897   \n",
       "1              1       CHEMBL336398   \n",
       "2              2       CHEMBL131588   \n",
       "3              3       CHEMBL130628   \n",
       "4              4       CHEMBL130478   \n",
       "...          ...                ...   \n",
       "4690        4690      CHEMBL4293155   \n",
       "4691        4691      CHEMBL4282558   \n",
       "4692        4692      CHEMBL4281727   \n",
       "4693        4693      CHEMBL4292349   \n",
       "4694        4694      CHEMBL4278260   \n",
       "\n",
       "                                       canonical_smiles         class  \\\n",
       "0                 CCOc1nn(-c2cccc(OCc3ccccc3)c2)c(=O)o1        active   \n",
       "1            O=C(N1CCCCC1)n1nc(-c2ccc(Cl)cc2)nc1SCC1CC1        active   \n",
       "2     CN(C(=O)n1nc(-c2ccc(Cl)cc2)nc1SCC(F)(F)F)c1ccccc1      inactive   \n",
       "3         O=C(N1CCCCC1)n1nc(-c2ccc(Cl)cc2)nc1SCC(F)(F)F        active   \n",
       "4             CSc1nc(-c2ccc(OC(F)(F)F)cc2)nn1C(=O)N(C)C        active   \n",
       "...                                                 ...           ...   \n",
       "4690  CC(C)(C)c1cc(/C=C/C(=O)NCCC2CCN(Cc3ccccc3Cl)CC...  intermediate   \n",
       "4691  CC(C)(C)c1cc(/C=C/C(=O)NCCC2CCN(Cc3cccc(Cl)c3)...  intermediate   \n",
       "4692  CC(C)(C)c1cc(/C=C/C(=O)NCCC2CCN(Cc3ccc(Br)cc3)...  intermediate   \n",
       "4693  CC(C)(C)c1cc(/C=C/C(=O)NCCC2CCN(Cc3cccc([N+](=...  intermediate   \n",
       "4694  CC(C)(C)c1cc(/C=C/C(=O)NCCC2CCN(Cc3ccc(C#N)cc3...  intermediate   \n",
       "\n",
       "           MW     LogP  NumHDonors  NumHAcceptors     pIC50  \n",
       "0     312.325  2.80320         0.0            6.0  6.124939  \n",
       "1     376.913  4.55460         0.0            5.0  7.000000  \n",
       "2     426.851  5.35740         0.0            5.0  4.301030  \n",
       "3     404.845  4.70690         0.0            5.0  6.522879  \n",
       "4     346.334  3.09530         0.0            6.0  6.096910  \n",
       "...       ...      ...         ...            ...       ...  \n",
       "4690  511.150  7.07230         2.0            3.0  5.612610  \n",
       "4691  511.150  7.07230         2.0            3.0  5.595166  \n",
       "4692  555.601  7.18140         2.0            3.0  5.419075  \n",
       "4693  521.702  6.32710         2.0            5.0  5.460924  \n",
       "4694  501.715  6.29058         2.0            4.0  5.555955  \n",
       "\n",
       "[4695 rows x 9 columns]"
      ]
     },
     "execution_count": 17,
     "metadata": {},
     "output_type": "execute_result"
    }
   ],
   "source": [
    "df3"
   ]
  },
  {
   "cell_type": "code",
   "execution_count": 19,
   "id": "9f32bd09-1cbf-4fe9-b20e-6d8d09185876",
   "metadata": {},
   "outputs": [],
   "source": [
    "selection = ['canonical_smiles','molecule_chembl_id']\n",
    "df3_selection = df3[selection]\n",
    "df3_selection.to_csv('molecule.smi', sep='\\t', index=False, header=False)"
   ]
  },
  {
   "cell_type": "code",
   "execution_count": 21,
   "id": "cbfd3c56-ea54-4126-a409-7bef060c8715",
   "metadata": {},
   "outputs": [
    {
     "name": "stdout",
     "output_type": "stream",
     "text": [
      "CCOc1nn(-c2cccc(OCc3ccccc3)c2)c(=O)o1\tCHEMBL133897\n",
      "O=C(N1CCCCC1)n1nc(-c2ccc(Cl)cc2)nc1SCC1CC1\tCHEMBL336398\n",
      "CN(C(=O)n1nc(-c2ccc(Cl)cc2)nc1SCC(F)(F)F)c1ccccc1\tCHEMBL131588\n",
      "O=C(N1CCCCC1)n1nc(-c2ccc(Cl)cc2)nc1SCC(F)(F)F\tCHEMBL130628\n",
      "CSc1nc(-c2ccc(OC(F)(F)F)cc2)nn1C(=O)N(C)C\tCHEMBL130478\n"
     ]
    }
   ],
   "source": [
    "! cat molecule.smi | head -5"
   ]
  },
  {
   "cell_type": "code",
   "execution_count": 23,
   "id": "25775068-26cb-4a46-83da-ba87a1482e0e",
   "metadata": {},
   "outputs": [
    {
     "name": "stdout",
     "output_type": "stream",
     "text": [
      "CCOc1nn(-c2cccc(OCc3ccccc3)c2)c(=O)o1\tCHEMBL133897\n",
      "O=C(N1CCCCC1)n1nc(-c2ccc(Cl)cc2)nc1SCC1CC1\tCHEMBL336398\n",
      "CN(C(=O)n1nc(-c2ccc(Cl)cc2)nc1SCC(F)(F)F)c1ccccc1\tCHEMBL131588\n",
      "O=C(N1CCCCC1)n1nc(-c2ccc(Cl)cc2)nc1SCC(F)(F)F\tCHEMBL130628\n",
      "CSc1nc(-c2ccc(OC(F)(F)F)cc2)nn1C(=O)N(C)C\tCHEMBL130478\n"
     ]
    }
   ],
   "source": [
    "! cat molecule.smi | head -5"
   ]
  },
  {
   "cell_type": "markdown",
   "id": "18ca6855-5874-46ca-9497-079107a82a0b",
   "metadata": {},
   "source": [
    "## **Calculate fingerprint descriptors**\n"
   ]
  },
  {
   "cell_type": "markdown",
   "id": "caf1a4a6-b28f-4b50-a945-54c763740608",
   "metadata": {},
   "source": [
    "### **Calculate PaDEL descriptors**"
   ]
  },
  {
   "cell_type": "code",
   "execution_count": 27,
   "id": "8d3ef62b-0ce5-43f7-ba39-1b0aaaf39973",
   "metadata": {},
   "outputs": [
    {
     "name": "stdout",
     "output_type": "stream",
     "text": [
      "java -Xms1G -Xmx1G -Djava.awt.headless=true -jar ./PaDEL-Descriptor/PaDEL-Descriptor.jar -removesalt -standardizenitro -fingerprints -descriptortypes ./PaDEL-Descriptor/PubchemFingerprinter.xml -dir ./ -file descriptors_output.csv\n"
     ]
    }
   ],
   "source": [
    "! cat padel.sh"
   ]
  },
  {
   "cell_type": "code",
   "execution_count": null,
   "id": "e1931ca5-4bea-430d-a4d4-cb8260776c89",
   "metadata": {},
   "outputs": [],
   "source": [
    "! bash padel.sh\n"
   ]
  },
  {
   "cell_type": "code",
   "execution_count": null,
   "id": "dabd1b1e-7b7c-463e-bafa-0fb5ed216f2e",
   "metadata": {},
   "outputs": [],
   "source": [
    "! ls -l"
   ]
  },
  {
   "cell_type": "markdown",
   "id": "a6fe5b6d-bdcc-4634-900b-9b311096f6d5",
   "metadata": {},
   "source": [
    "## **Preparing the X and Y Data Matrices**"
   ]
  },
  {
   "cell_type": "markdown",
   "id": "a9ab3a8e-f59b-49e8-9195-6e189b4fd3da",
   "metadata": {},
   "source": [
    "### **X data matrix**"
   ]
  },
  {
   "cell_type": "code",
   "execution_count": null,
   "id": "279c3a53-965e-4c75-b8b8-32f927793ea5",
   "metadata": {},
   "outputs": [],
   "source": []
  },
  {
   "cell_type": "code",
   "execution_count": null,
   "id": "3507fbf4-772b-4e6e-b1b3-6c1bdfed5216",
   "metadata": {},
   "outputs": [],
   "source": []
  },
  {
   "cell_type": "code",
   "execution_count": null,
   "id": "c2623f0f-2d0d-48b6-851f-8a7e9c03bc90",
   "metadata": {},
   "outputs": [],
   "source": []
  },
  {
   "cell_type": "code",
   "execution_count": null,
   "id": "2cd52d33-41fd-494e-a141-b93fb730465a",
   "metadata": {},
   "outputs": [],
   "source": []
  }
 ],
 "metadata": {
  "kernelspec": {
   "display_name": "Python 3 (ipykernel)",
   "language": "python",
   "name": "python3"
  },
  "language_info": {
   "codemirror_mode": {
    "name": "ipython",
    "version": 3
   },
   "file_extension": ".py",
   "mimetype": "text/x-python",
   "name": "python",
   "nbconvert_exporter": "python",
   "pygments_lexer": "ipython3",
   "version": "3.11.5"
  }
 },
 "nbformat": 4,
 "nbformat_minor": 5
}
